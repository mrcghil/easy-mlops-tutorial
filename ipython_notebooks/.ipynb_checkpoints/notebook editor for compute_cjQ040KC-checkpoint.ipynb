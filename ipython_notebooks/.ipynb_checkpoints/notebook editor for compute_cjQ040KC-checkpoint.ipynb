{
  "nbformat": 4,
  "nbformat_minor": 0,
  "metadata": {
    "kernelspec": {
      "display_name": "Python in eks-default (env meg_clip_dev)",
      "language": "python",
      "name": "py-dku-containerized-venv-meg_clip_dev-eks-default"
    },
    "associatedRecipe": "compute_cjQ040KC",
    "dkuGit": {
      "lastInteraction": 0
    },
    "creationTag": {
      "versionNumber": 0,
      "lastModifiedBy": {
        "login": "mghilar"
      },
      "lastModifiedOn": 1710267448499,
      "extendedProperties": {}
    },
    "creator": "mghilar",
    "createdOn": 1710267448499,
    "tags": [
      "recipe-editor"
    ],
    "customFields": {}
  },
  "cells": [
    {
      "cell_type": "code",
      "metadata": {},
      "outputs": [],
      "execution_count": 0,
      "source": [
        "# -*- coding: utf-8 -*-\n",
        "import dataiku\n",
        "import pandas as pd\n",
        "import numpy as np\n",
        "import datetime\n",
        "import json\n",
        "import os\n",
        "from sklearn.linear_model import LogisticRegression\n",
        "from matplotlib import pyplot as plt\n",
        "from dataiku import pandasutils as pdu"
      ]
    },
    {
      "cell_type": "code",
      "metadata": {},
      "outputs": [],
      "execution_count": 0,
      "source": [
        "# Read recipe inputs\n",
        "collected_data \u003d dataiku.Dataset(\"collected_data\")\n",
        "collected_data_df \u003d collected_data.get_dataframe()\n",
        "\n",
        "model_versions \u003d dataiku.Folder(\"cjQ040KC\")\n",
        "model_versions_info \u003d model_versions.get_info()"
      ]
    },
    {
      "cell_type": "code",
      "metadata": {},
      "outputs": [],
      "execution_count": 0,
      "source": [
        "# Problem constants\n",
        "ALL_IN_COST \u003d 1\n",
        "INITIAL_PRICE \u003d 1.8\n",
        "\n",
        "def income_function_single(price_delta:np.ndarray) -\u003e np.ndarray:\n",
        "    return (INITIAL_PRICE + price_delta) - ALL_IN_COST"
      ]
    },
    {
      "cell_type": "code",
      "metadata": {},
      "outputs": [],
      "execution_count": 0,
      "source": [
        "# Where to save successive modelling tests\n",
        "class ModelParameters:\n",
        "\n",
        "    def __init__(self, hypers, parameters, outputs, scores):\n",
        "        # Hyperparams\n",
        "        self.hypers \u003d hypers\n",
        "        # Relevant paramters\n",
        "        self.parameters \u003d parameters\n",
        "        # outputs\n",
        "        self.outputs \u003d outputs\n",
        "        # self score\n",
        "        self.scores \u003d scores\n",
        "\t\t# timestamp\n",
        "\t\tself.timestamp \u003d datetime.datetime.now()\n",
        "\n",
        "    def to_json(self):\n",
        "        return json.dumps({\n",
        "            \"hypers\": self.hypers,\n",
        "            \"parameters\": self.parameters,\n",
        "            \"outputs\": self.outputs,\n",
        "            \"scores\":self.scores\n",
        "\t\t\t\"timestamp\": self.timestamp.strftime(\"%Y%m%d_%H_%M_%S\")\n",
        "        })"
      ]
    },
    {
      "cell_type": "code",
      "metadata": {},
      "outputs": [],
      "execution_count": 0,
      "source": [
        "# Check the performance of the live model to see how we are performing\n",
        "live_df \u003d collected_data_df[collected_data_df[\u0027source\u0027] \u003d\u003d \"live\"].reset_index()\n",
        "\n",
        "# If the performance is good we can skip the model creation below\n",
        "if True:\n",
        "    # Model\n",
        "    REFIT_MODEL \u003d True\n",
        "else:\n",
        "    REFIT_MODEL \u003d False"
      ]
    },
    {
      "cell_type": "code",
      "metadata": {},
      "outputs": [],
      "execution_count": 0,
      "source": [
        "# We want to find the product discount that maximises our expected income\n",
        "\n",
        "## This will contain all the produced models\n",
        "models_collection \u003d []\n",
        "\n",
        "## Iterate for all the model builds (data included)\n",
        "if REFIT_MODEL:\n",
        "    for index in range(1):\n",
        "        print(f\"Running tuning: {index+1} ...\")\n",
        "\n",
        "        ## Can select the data better (perform split and ...)\n",
        "        X \u003d collected_data_df[\u0027price_delta\u0027].values.reshape(-1, 1)\n",
        "        Y \u003d collected_data_df[\u0027output\u0027].values\n",
        "\n",
        "        ## 1D Logistic regression\n",
        "        ## We model first the relationship between outcome (transaction occurred) and price\n",
        "        purchase_classifier \u003d LogisticRegression(\n",
        "            random_state\u003dNone,\n",
        "            # solver\u003d\u0027lbfgs\u0027,\n",
        "            # penalty\u003d\u0027l2\u0027\n",
        "            # max_iter\u003d100,\n",
        "        ).fit(\n",
        "            X,\n",
        "            Y,\n",
        "        )\n",
        "\n",
        "        ## This is the simplest thing not the best\n",
        "        simple_fit_score \u003d purchase_classifier.score(X,Y)\n",
        "\n",
        "        ## Calculate the optimal price for the period\n",
        "        nodes \u003d np.linspace(-1,1,1001)\n",
        "        ### Probability of purchase\n",
        "        purchase_prob \u003d purchase_classifier.predict_proba(nodes.reshape(-1, 1))[:,1]\n",
        "        purchase_pdf \u003d purchase_prob / np.trapz(purchase_prob, nodes)\n",
        "        ### Incomes\n",
        "        income_line \u003d income_function_single(nodes)\n",
        "\n",
        "        optimal_price_delta_ind \u003d np.argmax(income_line * purchase_pdf)\n",
        "        optimal_price_delta \u003d nodes[optimal_price_delta_ind]\n",
        "        print(f\"Optimal price delta at {optimal_price_delta} ...\")\n",
        "\n",
        "        plt.plot(nodes, income_line)\n",
        "        plt.plot(nodes, purchase_pdf)\n",
        "        plt.plot(nodes, income_line * purchase_pdf)\n",
        "        plt.show()\n",
        "\n",
        "        models_collection.append(\n",
        "            ModelParameters(\n",
        "                {},\n",
        "                {},\n",
        "                {\n",
        "                    \"action\": optimal_price_delta\n",
        "                },\n",
        "                {\n",
        "                    \"score\": simple_fit_score\n",
        "                }\n",
        "            )\n",
        "        )"
      ]
    },
    {
      "cell_type": "code",
      "metadata": {},
      "outputs": [],
      "execution_count": 0,
      "source": [
        "# Write recipe outputs\n",
        "\n",
        "if REFIT_MODEL:\n",
        "    ## Write latest model card\n",
        "    current_time \u003d datetime.datetime.now()\n",
        "    latest_model \u003d {\n",
        "        \"path\": current_time.strftime(\"%Y%m%d_%H_%M_%S\")\n",
        "    }\n",
        "    with model_versions.get_writer(\"latest_model.json\") as w:\n",
        "            w.write(\n",
        "                json.dumps(latest_model).encode()\n",
        "            )\n",
        "    ##\n",
        "    for ind, model in enumerate(models_collection):\n",
        "        with model_versions.get_writer(os.path.join(latest_model[\u0027path\u0027], \"_\".join([\"model\", f\"{ind}.json\"]))) as w:\n",
        "            w.write(\n",
        "                model.to_json().encode()\n",
        "            )"
      ]
    }
  ]
}