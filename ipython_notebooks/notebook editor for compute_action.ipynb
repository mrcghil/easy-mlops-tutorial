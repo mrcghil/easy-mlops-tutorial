{
  "metadata": {
    "kernelspec": {
      "name": "py-dku-containerized-venv-meg_clip_dev-eks-default",
      "display_name": "Python in eks-default (env meg_clip_dev)",
      "language": "python"
    },
    "hide_input": false,
    "language_info": {
      "name": "python",
      "version": "3.9.18",
      "mimetype": "text/x-python",
      "codemirror_mode": {
        "name": "ipython",
        "version": 3
      },
      "pygments_lexer": "ipython3",
      "nbconvert_exporter": "python",
      "file_extension": ".py"
    },
    "associatedRecipe": "compute_action",
    "createdOn": 1710347006455,
    "tags": [
      "recipe-editor"
    ],
    "customFields": {},
    "creator": "mghilar",
    "modifiedBy": "mghilar"
  },
  "nbformat": 4,
  "nbformat_minor": 1,
  "cells": [
    {
      "execution_count": 0,
      "cell_type": "code",
      "metadata": {},
      "source": [
        "# -*- coding: utf-8 -*-\nimport dataiku\nimport pandas as pd\nimport datetime\nimport json\nimport numpy as np\nfrom dataiku import pandasutils as pdu"
      ],
      "outputs": []
    },
    {
      "execution_count": 0,
      "cell_type": "code",
      "metadata": {},
      "source": [
        "# Read recipe inputs\nmodel_versions \u003d dataiku.Folder(\"cjQ040KC\")\nmodel_versions_info \u003d model_versions.get_info()"
      ],
      "outputs": []
    },
    {
      "execution_count": 0,
      "cell_type": "code",
      "metadata": {},
      "source": [
        "# Get the latest model build path\nwith model_versions.get_download_stream(\u0027latest_model.json\u0027) as f:\n    latest_model_info \u003d json.loads(\n        f.read().decode()\n    )\nprint(latest_model_info)"
      ],
      "outputs": []
    },
    {
      "execution_count": 0,
      "cell_type": "code",
      "metadata": {},
      "source": [
        "# Find the model score-cards\nmodel_versions_list \u003d model_versions.list_paths_in_partition()\n\nALL \u003d False\n\nif ALL:\n    model_versions \u003d [path for path in model_versions_list if \"latest_model.json\" not in path ]\nelse:\n    model_versions \u003d [path for path in model_versions_list if latest_model_info[\u0027path\u0027] in path ]\n\n# Load the model scorecards\nfor model_card in model_versions:\n    \n\n"
      ],
      "outputs": []
    },
    {
      "execution_count": 0,
      "cell_type": "code",
      "metadata": {},
      "source": [
        "# Decide which model is best to run\n\n\n# Predict the model output\n\n\n# Pass the model output and other relevant info to the outputs\naction_df \u003d pd.DataFrame({\n\t\"timestamp\": [pd.Timestamp(year\u003d2024, month\u003d3, day\u003d12)],\n\t\"optimal_price_delta\": [-0.9]\n})\n\n# Write recipe outputs\naction \u003d dataiku.Dataset(\"action\")\naction.write_with_schema(action_df)"
      ],
      "outputs": []
    }
  ]
}