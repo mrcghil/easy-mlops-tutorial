{
  "nbformat": 4,
  "nbformat_minor": 0,
  "metadata": {
    "kernelspec": {
      "display_name": "Python in eks-default (env meg_clip_dev)",
      "language": "python",
      "name": "py-dku-containerized-venv-meg_clip_dev-eks-default"
    },
    "associatedRecipe": "compute_action",
    "creator": "mghilar",
    "createdOn": 1710347006455,
    "tags": [
      "recipe-editor"
    ],
    "customFields": {}
  },
  "cells": [
    {
      "cell_type": "code",
      "metadata": {},
      "outputs": [],
      "execution_count": 0,
      "source": [
        "# -*- coding: utf-8 -*-\n",
        "import dataiku\n",
        "import pandas as pd\n",
        "import datetime\n",
        "import numpy as np\n",
        "from dataiku import pandasutils as pdu\n",
        "\n",
        "# Read recipe inputs\n",
        "model_versions \u003d dataiku.Folder(\"cjQ040KC\")\n",
        "model_versions_info \u003d model_versions.get_info()\n",
        "\n",
        "# Get the latest model build path\n",
        "with lts_storage.get_download_stream(full_payment_list_file) as f:\n",
        "\tfull_payment_list \u003d json.loads(\n",
        "\t\tf.read().decode()\n",
        "\t)\n",
        "\n",
        "# Load the model score-cards\n",
        "\n",
        "\n",
        "# Decide which model is best to run\n",
        "\n",
        "\n",
        "# Predict the model output\n",
        "\n",
        "\n",
        "# Pass the model output and other relevant info to the outputs\n",
        "action_df \u003d pd.DataFrame({\n",
        "\t\"timestamp\": [pd.Timestamp(year\u003d2024, month\u003d3, day\u003d12)],\n",
        "\t\"optimal_price_delta\": [-0.9]\n",
        "})\n",
        "\n",
        "# Write recipe outputs\n",
        "action \u003d dataiku.Dataset(\"action\")\n",
        "action.write_with_schema(action_df)"
      ]
    }
  ]
}