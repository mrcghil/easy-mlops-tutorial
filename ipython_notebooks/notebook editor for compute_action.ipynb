{
  "metadata": {
    "kernelspec": {
      "name": "py-dku-containerized-venv-meg_clip_dev-eks-default",
      "display_name": "Python in eks-default (env meg_clip_dev)",
      "language": "python"
    },
    "hide_input": false,
    "language_info": {
      "name": "python",
      "version": "3.9.18",
      "mimetype": "text/x-python",
      "codemirror_mode": {
        "name": "ipython",
        "version": 3
      },
      "pygments_lexer": "ipython3",
      "nbconvert_exporter": "python",
      "file_extension": ".py"
    },
    "associatedRecipe": "compute_action",
    "createdOn": 1710347006455,
    "tags": [
      "recipe-editor"
    ],
    "customFields": {},
    "creator": "mghilar",
    "modifiedBy": "mghilar"
  },
  "nbformat": 4,
  "nbformat_minor": 1,
  "cells": [
    {
      "execution_count": 0,
      "cell_type": "code",
      "metadata": {},
      "source": [
        "# -*- coding: utf-8 -*-\nimport dataiku\nimport pandas as pd\nimport datetime\nimport json\nimport numpy as np\nfrom dataiku import pandasutils as pdu"
      ],
      "outputs": []
    },
    {
      "execution_count": 0,
      "cell_type": "code",
      "metadata": {},
      "source": [
        "# Read recipe inputs\nmodel_versions \u003d dataiku.Folder(\"cjQ040KC\")\nmodel_versions_info \u003d model_versions.get_info()"
      ],
      "outputs": []
    },
    {
      "execution_count": 0,
      "cell_type": "code",
      "metadata": {},
      "source": [
        "# Get the latest model build path\nwith model_versions.get_download_stream(\u0027latest_model.json\u0027) as f:\n    latest_model_info \u003d json.loads(\n        f.read().decode()\n    )\nprint(latest_model_info)"
      ],
      "outputs": []
    },
    {
      "execution_count": 0,
      "cell_type": "code",
      "metadata": {},
      "source": [
        "# Find the model score-cards\nmodel_versions_list \u003d model_versions.list_paths_in_partition()\n\nALL \u003d False\n\nif ALL:\n    model_card_paths \u003d [path for path in model_versions_list if \"latest_model.json\" not in path ]\nelse:\n    model_card_paths \u003d [path for path in model_versions_list if latest_model_info[\u0027path\u0027] in path ]\n\n# Load the model scorecards\nmodel_cards \u003d []\nfor model_card_path in model_card_paths:\n    with model_versions.get_download_stream(model_card_path) as f:\n        model_card \u003d json.loads(\n            f.read().decode()\n        )\n    model_cards.append(model_card)\n    "
      ],
      "outputs": []
    },
    {
      "execution_count": 0,
      "cell_type": "code",
      "metadata": {},
      "source": [
        "# Model cards flattening (could be done better to and recursively once the data are fuller)\nactions \u003d [card[\u0027outputs\u0027][\u0027action\u0027] for card in model_cards]\nscores \u003d [card[\u0027scores\u0027][\u0027score\u0027] for card in model_cards]\ntimestamps \u003d [card[\u0027timestamp\u0027] for card in model_cards]\n\nmodels_collection \u003d pd.DataFrame({\n    \"timestamp\": timestamps,\n    \"optimal_price_delta\": actions,\n    \"scores\": scores,\n})"
      ],
      "outputs": []
    },
    {
      "execution_count": 0,
      "cell_type": "code",
      "metadata": {},
      "source": [
        "# Decide which model is best to run\nmodels_collection \u003d models_collection.sort_values(\u0027scores\u0027, ascending\u003dFalse)\n\n# Write recipe outputs\naction \u003d dataiku.Dataset(\"action\")\naction.write_with_schema(models_collection)"
      ],
      "outputs": []
    },
    {
      "execution_count": 0,
      "cell_type": "code",
      "metadata": {},
      "source": [
        ""
      ],
      "outputs": []
    }
  ]
}