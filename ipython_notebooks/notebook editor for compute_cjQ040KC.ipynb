{
  "nbformat": 4,
  "nbformat_minor": 0,
  "metadata": {
    "kernelspec": {
      "display_name": "Python in eks-default (builtin env)",
      "language": "python",
      "name": "py-dku-containerized-venv--eks-default"
    },
    "associatedRecipe": "compute_cjQ040KC",
    "creator": "mghilar",
    "createdOn": 1710267448499,
    "tags": [
      "recipe-editor"
    ],
    "customFields": {}
  },
  "cells": [
    {
      "cell_type": "code",
      "metadata": {},
      "outputs": [],
      "execution_count": 0,
      "source": [
        "# -*- coding: utf-8 -*-\n",
        "import dataiku\n",
        "import pandas as pd\n",
        "import numpy as np\n",
        "from dataiku import pandasutils as pdu\n",
        "\n",
        "# Read recipe inputs\n",
        "collected_data \u003d dataiku.Dataset(\"collected_data\")\n",
        "collected_data_df \u003d collected_data.get_dataframe()\n",
        "\n",
        "model_versions \u003d dataiku.Folder(\"cjQ040KC\")\n",
        "model_versions_info \u003d model_versions.get_info()\n",
        "\n",
        "# Problem constants\n",
        "ALL_IN_COST \u003d 1\n",
        "INITIAL_PRICE \u003d 1.8\n",
        "\n",
        "collected_data[\u0027cost\u0027] \u003d ALL_IN_COST\n",
        "collected_data[\u0027revenue\u0027] \u003d INITIAL_PRICE + collected_data[\u0027price_delta\u0027]\n",
        "collected_data[\u0027income\u0027] \u003d collected_data[\u0027revenue\u0027] - collected_data[\u0027cost\u0027]\n",
        "\n",
        "# We want to find the product discount that maximises our expected income\n",
        "## We model first the relationship between outcome (transaction occurred) and price\n",
        "## 1D Logistic regression\n",
        "\n",
        "\n",
        "# Model definition\n",
        "\n",
        "# Check the performance of the live model to see how we are performing\n",
        "live_df \u003d collected_data_df[collected_data_df[\u0027source\u0027] \u003d\u003d \"live\"].reset_index()\n",
        "\n",
        "# Write recipe outputs"
      ]
    }
  ]
}