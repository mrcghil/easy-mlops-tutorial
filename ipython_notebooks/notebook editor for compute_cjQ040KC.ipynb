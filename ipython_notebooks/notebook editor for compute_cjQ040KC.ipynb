{
  "metadata": {
    "kernelspec": {
      "name": "py-dku-venv-meg_clickstream_mania",
      "display_name": "Python (env meg_clickstream_mania)",
      "language": "python"
    },
    "hide_input": false,
    "language_info": {
      "name": "python",
      "version": "3.6.8",
      "mimetype": "text/x-python",
      "codemirror_mode": {
        "name": "ipython",
        "version": 3
      },
      "pygments_lexer": "ipython3",
      "nbconvert_exporter": "python",
      "file_extension": ".py"
    },
    "associatedRecipe": "compute_cjQ040KC",
    "createdOn": 1710267448499,
    "tags": [
      "recipe-editor"
    ],
    "customFields": {},
    "creator": "mghilar",
    "modifiedBy": "mghilar"
  },
  "nbformat": 4,
  "nbformat_minor": 1,
  "cells": [
    {
      "execution_count": 0,
      "cell_type": "code",
      "metadata": {},
      "source": [
        "# -*- coding: utf-8 -*-\nimport dataiku\nimport pandas as pd\nimport numpy as np\nfrom sklearn.linear_model import LogisticRegression\nfrom dataiku import pandasutils as pdu"
      ],
      "outputs": []
    },
    {
      "execution_count": 0,
      "cell_type": "code",
      "metadata": {},
      "source": [
        "# Read recipe inputs\ncollected_data \u003d dataiku.Dataset(\"collected_data\")\ncollected_data_df \u003d collected_data.get_dataframe()\n\nmodel_versions \u003d dataiku.Folder(\"cjQ040KC\")\nmodel_versions_info \u003d model_versions.get_info()"
      ],
      "outputs": []
    },
    {
      "execution_count": 0,
      "cell_type": "code",
      "metadata": {},
      "source": [
        "# Problem constants\nALL_IN_COST \u003d 1\nINITIAL_PRICE \u003d 1.8\n\ncollected_data[\u0027cost\u0027] \u003d ALL_IN_COST\ncollected_data[\u0027revenue\u0027] \u003d INITIAL_PRICE + collected_data[\u0027price_delta\u0027]\ncollected_data[\u0027income\u0027] \u003d collected_data[\u0027revenue\u0027] - collected_data[\u0027cost\u0027]"
      ],
      "outputs": []
    },
    {
      "execution_count": 0,
      "cell_type": "code",
      "metadata": {},
      "source": [
        "# We want to find the product discount that maximises our expected income\n## We model first the relationship between outcome (transaction occurred) and price\n## 1D Logistic regression\nclf \u003d LogisticRegression(random_state\u003d0).fit(collected_data[\u0027\u0027], collected_data[\u0027\u0027])\n\n# Model definition\n\n# Check the performance of the live model to see how we are performing\nlive_df \u003d collected_data_df[collected_data_df[\u0027source\u0027] \u003d\u003d \"live\"].reset_index()\n\n# Write recipe outputs"
      ],
      "outputs": []
    }
  ]
}