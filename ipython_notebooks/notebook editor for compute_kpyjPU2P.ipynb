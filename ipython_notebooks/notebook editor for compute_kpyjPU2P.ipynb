{
  "nbformat": 4,
  "nbformat_minor": 0,
  "metadata": {
    "kernelspec": {
      "display_name": "Python in eks-default (builtin env)",
      "language": "python",
      "name": "py-dku-containerized-venv--eks-default"
    },
    "associatedRecipe": "compute_kpyjPU2P",
    "creator": "mghilar",
    "createdOn": 1710265484397,
    "tags": [
      "recipe-editor"
    ],
    "customFields": {}
  },
  "cells": [
    {
      "cell_type": "code",
      "metadata": {},
      "outputs": [],
      "execution_count": 0,
      "source": [
        "# -*- coding: utf-8 -*-\n",
        "import dataiku\n",
        "import pandas as pd\n",
        "import numpy as np\n",
        "from dataiku import pandasutils as pdu\n",
        "\n",
        "# Read recipe inputs\n",
        "action \u003d dataiku.Dataset(\"action\")\n",
        "action_df \u003d action.get_dataframe()\n",
        "\n",
        "sample_results \u003d dataiku.Folder(\"kpyjPU2P\")\n",
        "sample_results_info \u003d sample_results.get_info()\n",
        "\n",
        "results_from_model \u003d dataiku.Dataset(\"results_from_model\")\n",
        "\n",
        "# Path in folder\n",
        "data_folder \u003d dataiku.get_custom_variables()[\"batches_path\"]"
      ]
    },
    {
      "cell_type": "code",
      "metadata": {},
      "outputs": [],
      "execution_count": 0,
      "source": [
        "# Functions to get the data\n",
        "seed \u003d 11223344\n",
        "np.random.seed(seed)\n",
        "reference_time \u003d datetime.datetime(2024, 1, 1)\n",
        "\n",
        "def get_features(current_time: datetime.datetime, fixed_delta \u003d \"random\", size:tuple \u003d (1000,)) -\u003e pd.DataFrame:\n",
        "    # Time\n",
        "    time_delta \u003d current_time - reference_time\n",
        "    timestamps \u003d pd.date_range(current_time, periods\u003dsize[0], freq\u003d\"s\")\n",
        "\n",
        "    # Trend increses in time to saturation\n",
        "    long_trend \u003d min((0.008 * time_delta.total_seconds() / (24 * 60 * 60)), 0.80) * np.ones(size)\n",
        "\n",
        "    # Intraday\n",
        "    short_trend \u003d 0.1 * np.sin( 2 * np.pi * (time_delta.seconds / 3600) / 24 ) * np.ones(size)\n",
        "\n",
        "    # Price delta\n",
        "    if type(fixed_delta) \u003d\u003d str and fixed_delta \u003d\u003d \"random\":\n",
        "        price_delta \u003d np.random.uniform(-1, 1, size)\n",
        "    elif type(fixed_delta) \u003d\u003d int or type(fixed_delta) \u003d\u003d float:\n",
        "        price_delta \u003d fixed_delta * np.ones(size)\n",
        "\n",
        "    # Random noise\n",
        "    noise_a \u003d np.random.normal(0, 0.02, size)\n",
        "\n",
        "    df \u003d pd.DataFrame(\n",
        "        {\n",
        "            \"timestamps\": timestamps,\n",
        "            \"long_trend\": long_trend.tolist(),\n",
        "            \"short_trend\": short_trend.tolist(),\n",
        "            \"noise\": noise_a.tolist(),\n",
        "            \"price_delta\": price_delta.tolist(),\n",
        "        }\n",
        "    )\n",
        "\n",
        "    return df\n",
        "\n",
        "def get_outcome(features: pd.DataFrame) -\u003e pd.DataFrame:\n",
        "    # Price dependency\n",
        "    features[\u0027price_sensitivity\u0027] \u003d - 3 * ((1 / (1 + np.exp(-features[\u0027price_delta\u0027]))) - 0.5)\n",
        "    features[\u0027score\u0027] \u003d features[\u0027long_trend\u0027] + features[\u0027short_trend\u0027] + features[\u0027price_sensitivity\u0027] + features[\u0027noise\u0027]\n",
        "    features[\u0027output\u0027] \u003d features[\u0027score\u0027] \u003e\u003d 0.7\n",
        "    return features"
      ]
    },
    {
      "cell_type": "code",
      "metadata": {},
      "outputs": [],
      "execution_count": 0,
      "source": [
        "# Produce the data and save to the folder\n",
        "current_time \u003d datetime.datetime.now()\n",
        "optimal_price_delta \u003d action_df[\u0027optimal_price_delta\u0027][-1]"
      ]
    },
    {
      "cell_type": "code",
      "metadata": {},
      "outputs": [],
      "execution_count": 0,
      "source": [
        "# Produce features\n",
        "features \u003d get_features(current_time, optimal_price_delta, (1000,))\n",
        "print(features.head(5))\n",
        "features \u003d get_outcome(features)\n",
        "print(features.describe())"
      ]
    },
    {
      "cell_type": "code",
      "metadata": {},
      "outputs": [],
      "execution_count": 0,
      "source": [
        "# Write recipe outputs\n",
        "with sample_results.get_writer(os.path.join(data_folder, \"_\".join([\"data\", current_time.strftime(\"%Y%m%d_%H_%M_%S\") + \".csv\"]))) as w:\n",
        "    w.write(\n",
        "        features.to_csv().encode()\n",
        "    )\n",
        "\n",
        "results_from_model.write_with_schema(features)"
      ]
    }
  ]
}