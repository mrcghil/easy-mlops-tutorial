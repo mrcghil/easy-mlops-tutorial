{
  "nbformat": 4,
  "nbformat_minor": 0,
  "metadata": {
    "kernelspec": {
      "display_name": "Python in eks-default (builtin env)",
      "language": "python",
      "name": "py-dku-containerized-venv--eks-default"
    },
    "associatedRecipe": "compute_zY3ZURve",
    "creator": "mghilar",
    "createdOn": 1710247187661,
    "tags": [
      "recipe-editor"
    ],
    "customFields": {}
  },
  "cells": [
    {
      "cell_type": "code",
      "metadata": {},
      "outputs": [],
      "execution_count": 0,
      "source": [
        "# -*- coding: utf-8 -*-\n",
        "import dataiku\n",
        "import datetime\n",
        "import pandas as pd\n",
        "import numpy as np\n",
        "import matplotlib.pyplot as plt\n",
        "from dataiku import pandasutils as pdu\n",
        "\n",
        "# Connect to folder\n",
        "sample_batches \u003d dataiku.Folder(\"zY3ZURve\")\n",
        "sample_batches_info \u003d sample_batches.get_info()\n",
        "\n",
        "# Path in folder\n",
        "data_folder \u003d dataiku.get_custom_variables()[\"batches_path\"]\n",
        "\n",
        "# Model\n",
        "def get_features(current_time: datetime.datetime) -\u003e pd.DataFrame:\n",
        "\tpass\n",
        "\n",
        "def get_measurement(features: pd.DataFrame) -\u003e pd.Series:\n",
        "\tpass\n",
        "\n",
        "# Produce the data and save to the folder\n",
        "current_time \u003d datetime.datetime.now().timestamp()"
      ]
    }
  ]
}