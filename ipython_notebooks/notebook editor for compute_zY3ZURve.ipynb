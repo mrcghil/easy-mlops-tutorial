{
  "nbformat": 4,
  "nbformat_minor": 0,
  "metadata": {
    "kernelspec": {
      "display_name": "Python in eks-default (builtin env)",
      "language": "python",
      "name": "py-dku-containerized-venv--eks-default"
    },
    "associatedRecipe": "compute_zY3ZURve",
    "dkuGit": {
      "lastInteraction": 0
    },
    "creationTag": {
      "versionNumber": 0,
      "lastModifiedBy": {
        "login": "mghilar"
      },
      "lastModifiedOn": 1710247187661,
      "extendedProperties": {}
    },
    "creator": "mghilar",
    "createdOn": 1710247187661,
    "tags": [
      "recipe-editor"
    ],
    "customFields": {}
  },
  "cells": [
    {
      "cell_type": "code",
      "metadata": {},
      "outputs": [],
      "execution_count": 0,
      "source": [
        "# -*- coding: utf-8 -*-\n",
        "import dataiku\n",
        "import datetime\n",
        "import pandas as pd\n",
        "import numpy as np\n",
        "import os\n",
        "# import matplotlib.pyplot as plt\n",
        "from dataiku import pandasutils as pdu"
      ]
    },
    {
      "cell_type": "code",
      "metadata": {},
      "outputs": [],
      "execution_count": 0,
      "source": [
        "# Connect to folder\n",
        "sample_batches \u003d dataiku.Folder(\"zY3ZURve\")\n",
        "sample_batches_info \u003d sample_batches.get_info()\n",
        "\n",
        "# Connect to dataset\n",
        "sample_batch_dataset \u003d dataiku.Dataset(\"sample_batch\")\n",
        "\n",
        "# Path in folder\n",
        "data_folder \u003d dataiku.get_custom_variables()[\"batches_path\"]"
      ]
    },
    {
      "cell_type": "code",
      "metadata": {},
      "outputs": [],
      "execution_count": 0,
      "source": [
        "# Model\n",
        "seed \u003d 112233\n",
        "np.random.seed(seed)\n",
        "reference_time \u003d datetime.datetime(2024, 1, 1)\n",
        "\n",
        "def get_features(current_time: datetime.datetime, fixed_delta \u003d \"random\", size:tuple \u003d (1000,)) -\u003e pd.DataFrame:\n",
        "    # Time\n",
        "    time_delta \u003d current_time - reference_time\n",
        "    timestamps \u003d pd.date_range(current_time, periods\u003dsize[0], freq\u003d\"s\")\n",
        "\n",
        "    # Trend increses in time to saturation\n",
        "    long_trend \u003d min((0.008 * time_delta.total_seconds() / (24 * 60 * 60)), 1) * np.ones(size)\n",
        "\n",
        "    # Intraday\n",
        "    short_trend \u003d 0.1 * np.sin( 2 * np.pi * (time_delta.seconds / 3600) / 24 ) * np.ones(size)\n",
        "\n",
        "    # Price delta\n",
        "    if type(fixed_delta) \u003d\u003d str and fixed_delta \u003d\u003d \"random\":\n",
        "        price_delta \u003d np.random.uniform(-0.5, 0.5, size)\n",
        "    elif type(fixed_delta) \u003d\u003d int or type(fixed_delta) \u003d\u003d float:\n",
        "        price_delta \u003d fixed_delta * np.ones(size)\n",
        "\n",
        "    # Random noise\n",
        "    noise_a \u003d np.random.normal(0, 0.02, size)\n",
        "\n",
        "    df \u003d pd.DataFrame(\n",
        "        {\n",
        "            \"timestamps\": timestamps,\n",
        "            \"long_trend\": long_trend.tolist(),\n",
        "            \"short_trend\": short_trend.tolist(),\n",
        "            \"noise\": noise_a.tolist(),\n",
        "            \"price_delta\": price_delta.tolist(),\n",
        "        }\n",
        "    )\n",
        "\n",
        "    return df\n",
        "\n",
        "def get_outcome(features: pd.DataFrame) -\u003e pd.Series:\n",
        "    # Price dependency\n",
        "    price_sensitivity \u003d - 0.2 / (1 + np.exp(-features[\u0027price_delta\u0027]))\n",
        "    outcome \u003d features[\u0027long_trend\u0027] + features[\u0027short_trend\u0027] + features[\u0027price_delta\u0027] + features[\u0027noise\u0027]\n",
        "    return outcome"
      ]
    },
    {
      "cell_type": "code",
      "metadata": {},
      "outputs": [],
      "execution_count": 0,
      "source": [
        "# Produce the data and save to the folder\n",
        "current_time \u003d datetime.datetime.now()"
      ]
    },
    {
      "cell_type": "code",
      "metadata": {},
      "outputs": [],
      "execution_count": 0,
      "source": [
        "# Produce features\n",
        "features \u003d get_features(current_time, \"random\", (1000,))\n",
        "print(features.head(20))\n",
        "features[\u0027purchased\u0027] \u003d get_outcome(features)\n",
        "print(features.describe())\n",
        "\n",
        "features \u003d features.drop(columns\u003d[\"long_trend\", \"short_trend\", \"noise\"])\n",
        "print(features.head(20))"
      ]
    },
    {
      "cell_type": "code",
      "metadata": {},
      "outputs": [],
      "execution_count": 0,
      "source": [
        "# Save data to the folder\n",
        "with sample_batches.get_writer(os.path.join(data_folder, \"_\".join([\"data\", current_time.strftime(\"%Y%m%d_%H_%M_%S\") + \".csv\"]))) as w:\n",
        "    w.write(\n",
        "        features.to_csv().encode()\n",
        "    )\n",
        "\n",
        "sample_batch_dataset.write_with_schema(features)"
      ]
    }
  ]
}