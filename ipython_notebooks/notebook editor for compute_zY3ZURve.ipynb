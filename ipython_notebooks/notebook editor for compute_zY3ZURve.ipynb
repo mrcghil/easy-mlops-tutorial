{
  "metadata": {
    "kernelspec": {
      "name": "py-dku-containerized-venv-meg_clickstream_mania-eks-default",
      "display_name": "Python in eks-default (env meg_clickstream_mania)",
      "language": "python"
    },
    "hide_input": false,
    "language_info": {
      "name": "python",
      "version": "3.6.8",
      "mimetype": "text/x-python",
      "codemirror_mode": {
        "name": "ipython",
        "version": 3
      },
      "pygments_lexer": "ipython3",
      "nbconvert_exporter": "python",
      "file_extension": ".py"
    },
    "associatedRecipe": "compute_zY3ZURve",
    "createdOn": 1710247187661,
    "tags": [
      "recipe-editor"
    ],
    "customFields": {},
    "creator": "mghilar",
    "modifiedBy": "mghilar"
  },
  "nbformat": 4,
  "nbformat_minor": 1,
  "cells": [
    {
      "execution_count": 0,
      "cell_type": "code",
      "metadata": {},
      "source": [
        "# -*- coding: utf-8 -*-\nimport dataiku\nimport datetime\nimport pandas as pd\nimport numpy as np\n# import matplotlib.pyplot as plt\nfrom dataiku import pandasutils as pdu"
      ],
      "outputs": []
    },
    {
      "execution_count": 0,
      "cell_type": "code",
      "metadata": {},
      "source": [
        "# Connect to folder\nsample_batches \u003d dataiku.Folder(\"zY3ZURve\")\nsample_batches_info \u003d sample_batches.get_info()\n\n# Path in folder\ndata_folder \u003d dataiku.get_custom_variables()[\"batches_path\"]"
      ],
      "outputs": []
    },
    {
      "execution_count": 0,
      "cell_type": "code",
      "metadata": {},
      "source": [
        "# Model\nseed \u003d 112233\nnp.random.seed(seed)\nreference_time \u003d datetime.datetime(2024, 1, 1)\n\ndef get_features(current_time: datetime.datetime, size\u003d(1000,1)) -\u003e pd.DataFrame:\n    time_delta \u003d current_time - reference_time\n    # Trend increses in time to saturation\n    trend \u003d min((0.008 * time_delta.total_seconds() / (24 * 60 * 60)), 1) * np.ones(size)\n    # Random noise\n    noise_a \u003d np.random.normal(0, 0.1, size)\n    \n#     df \u003d pd.DataFrame(\n#         {\n#             \"unixtime\": times,\n#             \"feature_a\": \n#         }\n#     )\n    \n    return df\n\ndef get_outcome(features: pd.DataFrame) -\u003e pd.Series:\n    return "
      ],
      "outputs": []
    },
    {
      "execution_count": 0,
      "cell_type": "code",
      "metadata": {},
      "source": [
        "# Produce the data and save to the folder\ncurrent_time \u003d datetime.datetime.now()\nprint(current_time)\ntime_delta \u003d (current_time - reference_time)\nprint(time_delta.days)\nsize \u003d (1000, 1)\nprint(min((0.008 * time_delta.total_seconds() / (24 * 60 * 60)), 1) * np.ones(size))\n"
      ],
      "outputs": []
    },
    {
      "execution_count": 0,
      "cell_type": "code",
      "metadata": {},
      "source": [
        "# Produce features and the \nfeatures \u003d get_features(current_time)\nfeatures[\u0027outcome\u0027] \u003d get_outcome(features)"
      ],
      "outputs": []
    }
  ]
}