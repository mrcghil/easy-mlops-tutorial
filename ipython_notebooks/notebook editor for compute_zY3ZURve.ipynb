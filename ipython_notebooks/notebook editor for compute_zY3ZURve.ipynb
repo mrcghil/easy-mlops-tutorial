{
  "metadata": {
    "kernelspec": {
      "name": "py-dku-containerized-venv-meg_clickstream_mania-eks-default",
      "display_name": "Python in eks-default (env meg_clickstream_mania)",
      "language": "python"
    },
    "hide_input": false,
    "language_info": {
      "name": "python",
      "version": "3.6.8",
      "mimetype": "text/x-python",
      "codemirror_mode": {
        "name": "ipython",
        "version": 3
      },
      "pygments_lexer": "ipython3",
      "nbconvert_exporter": "python",
      "file_extension": ".py"
    },
    "associatedRecipe": "compute_zY3ZURve",
    "createdOn": 1710247187661,
    "dkuGit": {
      "lastInteraction": 0
    },
    "tags": [
      "recipe-editor"
    ],
    "customFields": {},
    "creationTag": {
      "versionNumber": 0,
      "lastModifiedBy": {
        "login": "mghilar"
      },
      "lastModifiedOn": 1710247187661,
      "extendedProperties": {}
    },
    "creator": "mghilar",
    "modifiedBy": "mghilar"
  },
  "nbformat": 4,
  "nbformat_minor": 1,
  "cells": [
    {
      "execution_count": 0,
      "cell_type": "code",
      "metadata": {},
      "source": [
        "# -*- coding: utf-8 -*-\nimport dataiku\nimport datetime\nimport pandas as pd\nimport numpy as np\nimport os\n# import matplotlib.pyplot as plt\nfrom dataiku import pandasutils as pdu"
      ],
      "outputs": []
    },
    {
      "execution_count": 0,
      "cell_type": "code",
      "metadata": {},
      "source": [
        "# Connect to folder\nsample_batches \u003d dataiku.Folder(\"zY3ZURve\")\nsample_batches_info \u003d sample_batches.get_info()\n\n# Connect to dataset\nsample_data_dataset \u003d dataiku.Dataset(\"sample_data\")\n\n# Path in folder\ndata_folder \u003d dataiku.get_custom_variables()[\"batches_path\"]"
      ],
      "outputs": []
    },
    {
      "execution_count": 0,
      "cell_type": "code",
      "metadata": {},
      "source": [
        "# Model\nseed \u003d 112233\nnp.random.seed(seed)\nreference_time \u003d datetime.datetime(2024, 1, 1)\n\ndef get_features(current_time: datetime.datetime, fixed_delta \u003d \"random\", size:tuple \u003d (1000,)) -\u003e pd.DataFrame:\n    # Time\n    time_delta \u003d current_time - reference_time\n    timestamps \u003d pd.date_range(current_time, periods\u003dsize[0], freq\u003d\"s\")\n\n    # Trend increses in time to saturation\n    long_trend \u003d min((0.008 * time_delta.total_seconds() / (24 * 60 * 60)), 0.80) * np.ones(size)\n\n    # Intraday\n    short_trend \u003d 0.1 * np.sin( 2 * np.pi * (time_delta.seconds / 3600) / 24 ) * np.ones(size)\n\n    # Price delta\n    if type(fixed_delta) \u003d\u003d str and fixed_delta \u003d\u003d \"random\":\n        price_delta \u003d np.random.uniform(-0.5, 0.5, size)\n    elif type(fixed_delta) \u003d\u003d int or type(fixed_delta) \u003d\u003d float:\n        price_delta \u003d fixed_delta * np.ones(size)\n\n    # Random noise\n    noise_a \u003d np.random.normal(0, 0.02, size)\n\n    df \u003d pd.DataFrame(\n        {\n            \"timestamps\": timestamps,\n            \"long_trend\": long_trend.tolist(),\n            \"short_trend\": short_trend.tolist(),\n            \"noise\": noise_a.tolist(),\n            \"price_delta\": price_delta.tolist(),\n        }\n    )\n\n    return df\n\ndef get_outcome(features: pd.DataFrame) -\u003e pd.DataFrame:\n    # Price dependency\n    features[\u0027price_sensitivity\u0027] \u003d 0.1 * ((1 / (1 + np.exp(-features[\u0027price_delta\u0027]))) - 0.5)\n    outcome \u003d features[\u0027long_trend\u0027] + features[\u0027short_trend\u0027] + features[\u0027price_delta\u0027] + features[\u0027noise\u0027]\n    return outcome \u003e\u003d 0.9"
      ],
      "outputs": []
    },
    {
      "execution_count": 0,
      "cell_type": "code",
      "metadata": {},
      "source": [
        "# Produce the data and save to the folder\ncurrent_time \u003d datetime.datetime.now()"
      ],
      "outputs": []
    },
    {
      "execution_count": 0,
      "cell_type": "code",
      "metadata": {},
      "source": [
        "# Produce features\nfeatures \u003d get_features(current_time, \"random\", (1000,))\nprint(features.head(5))\nfeatures[\u0027purchased\u0027] \u003d get_outcome(features)\nprint(features.describe())\n\n# Drop this later to show\n# features \u003d features.drop(columns\u003d[\"long_trend\", \"short_trend\", \"noise\"])\n# print(features.head(20))"
      ],
      "outputs": []
    },
    {
      "execution_count": 0,
      "cell_type": "code",
      "metadata": {},
      "source": [
        "# Save data to the folder\nwith sample_batches.get_writer(os.path.join(data_folder, \"_\".join([\"data\", current_time.strftime(\"%Y%m%d_%H_%M_%S\") + \".csv\"]))) as w:\n    w.write(\n        features.to_csv().encode()\n    )\n\nsample_data_dataset.write_with_schema(features)"
      ],
      "outputs": []
    },
    {
      "execution_count": 0,
      "cell_type": "code",
      "metadata": {},
      "source": [
        ""
      ],
      "outputs": []
    }
  ]
}