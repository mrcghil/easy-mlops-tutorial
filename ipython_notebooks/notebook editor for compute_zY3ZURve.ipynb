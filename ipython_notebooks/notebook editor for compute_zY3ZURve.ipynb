{
  "metadata": {
    "kernelspec": {
      "name": "py-dku-containerized-venv-meg_clickstream_mania-eks-default",
      "display_name": "Python in eks-default (env meg_clickstream_mania)",
      "language": "python"
    },
    "hide_input": false,
    "language_info": {
      "name": "python",
      "version": "3.6.8",
      "mimetype": "text/x-python",
      "codemirror_mode": {
        "name": "ipython",
        "version": 3
      },
      "pygments_lexer": "ipython3",
      "nbconvert_exporter": "python",
      "file_extension": ".py"
    },
    "associatedRecipe": "compute_zY3ZURve",
    "createdOn": 1710247187661,
    "tags": [
      "recipe-editor"
    ],
    "customFields": {},
    "creator": "mghilar",
    "modifiedBy": "mghilar"
  },
  "nbformat": 4,
  "nbformat_minor": 1,
  "cells": [
    {
      "execution_count": 0,
      "cell_type": "code",
      "metadata": {},
      "source": [
        "# -*- coding: utf-8 -*-\nimport dataiku\nimport datetime\nimport pandas as pd\nimport numpy as np\n# import matplotlib.pyplot as plt\nfrom dataiku import pandasutils as pdu"
      ],
      "outputs": []
    },
    {
      "execution_count": 0,
      "cell_type": "code",
      "metadata": {},
      "source": [
        "# Connect to folder\nsample_batches \u003d dataiku.Folder(\"zY3ZURve\")\nsample_batches_info \u003d sample_batches.get_info()\n\n# Path in folder\ndata_folder \u003d dataiku.get_custom_variables()[\"batches_path\"]"
      ],
      "outputs": []
    },
    {
      "execution_count": 0,
      "cell_type": "code",
      "metadata": {},
      "source": [
        "# Model\nseed \u003d 112233\nnp.random.seed(seed)\nreference_time \u003d datetime.datetime(2024, 1, 1)\n\ndef get_features(current_time: datetime.datetime, fixed_delta:float, size:tuple \u003d (1000,1)) -\u003e pd.DataFrame:\n    # Time\n    time_delta \u003d current_time - reference_time\n    timestamps \u003d pd.date_range(current_time, periods\u003dsize[0], freq\u003d\"s\")\n    \n    # Trend increses in time to saturation\n    long_trend \u003d min((0.008 * time_delta.total_seconds() / (24 * 60 * 60)), 1) * np.ones(size)\n    \n    # Intraday\n    short_trend \u003d np.ones(size)\n    \n    # Price delta\n    price_delta \u003d fixed_delta * np.ones(size)\n    \n    # Random noise\n    noise_a \u003d np.random.normal(0, 0.1, size)\n    \n    df \u003d pd.DataFrame(\n        {\n            \"timestamps\": timestamps,\n            \"long_trend\": long_trend,\n            \"short_trend\": short_trend,\n            \"price_delta\": price_delta,\n        }\n    )\n    \n    return df\n\ndef get_outcome(features: pd.DataFrame, price_delta) -\u003e pd.Series:\n    # Price dependency\n    price_sensitivity \u003d - 0.2 / (1 + np.exp(-features[\u0027price_delta\u0027]))\n    \n    return "
      ],
      "outputs": []
    },
    {
      "execution_count": 0,
      "cell_type": "code",
      "metadata": {},
      "source": [
        "# Produce the data and save to the folder\ncurrent_time \u003d datetime.datetime.now()\nprint(current_time)\ntime_delta \u003d (current_time - reference_time)\nprint(time_delta.days)\nsize \u003d (1000, 1)\ntimestamp \u003d pd.date_range(current_time, periods\u003dsize[0], freq\u003d\"s\")\nprint(timestamp)"
      ],
      "outputs": []
    },
    {
      "execution_count": 0,
      "cell_type": "code",
      "metadata": {},
      "source": [
        "# Produce features and the \nfeatures \u003d get_features_initial(current_time)\nfeatures[\u0027purchased\u0027] \u003d get_outcome(features)"
      ],
      "outputs": []
    }
  ]
}